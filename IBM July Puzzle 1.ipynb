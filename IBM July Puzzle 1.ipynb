{
 "cells": [
  {
   "cell_type": "code",
   "execution_count": 1,
   "id": "f751b588",
   "metadata": {},
   "outputs": [],
   "source": [
    "import numpy as np\n",
    "from collections import deque\n",
    "from copy import deepcopy\n",
    "import time"
   ]
  },
  {
   "cell_type": "code",
   "execution_count": 2,
   "id": "161f9526",
   "metadata": {},
   "outputs": [],
   "source": [
    "occupied_matrix = np.zeros((5,5), dtype = int)\n",
    "occupied_matrix = occupied_matrix.astype(str)\n",
    "answer_array = np.zeros((5,5), dtype = int)\n",
    "answer_array = answer_array.astype(str)"
   ]
  },
  {
   "cell_type": "code",
   "execution_count": 3,
   "id": "3661fac8",
   "metadata": {},
   "outputs": [],
   "source": [
    "def get_string(np_array):\n",
    "    \"\"\"\n",
    "    Convert a np_array to a string \n",
    "    To be used as immutable key\n",
    "    \"\"\"\n",
    "    string = \"\"\n",
    "    for i in range(5):\n",
    "        for j in range(5):\n",
    "            string += np_array[i][j]\n",
    "    return string"
   ]
  },
  {
   "cell_type": "code",
   "execution_count": 4,
   "id": "c5515dfd",
   "metadata": {},
   "outputs": [
    {
     "data": {
      "text/plain": [
       "['7702200324033145991806888',\n",
       " '9902200324033145771806888',\n",
       " '7702200321033415994806888',\n",
       " '9902200321033415774806888',\n",
       " '7702200324033146991805888',\n",
       " '9902200324033146771805888',\n",
       " '7702200321033416994805888',\n",
       " '9902200321033416774805888']"
      ]
     },
     "execution_count": 4,
     "metadata": {},
     "output_type": "execute_result"
    }
   ],
   "source": [
    "### Find all variations of answers\n",
    "answer_list = []\n",
    "#purple \n",
    "answer_array[3,4] = '8'\n",
    "answer_array[4,2:5] = '8'\n",
    "#red\n",
    "answer_array[2, 1] = '3'\n",
    "answer_array[1:3, 2] = '3'\n",
    "#green\n",
    "answer_array[0, 3:] = '2'\n",
    "answer_array[1,3] = '2'\n",
    "#orange\n",
    "answer_array[2:4, 3] = '1'\n",
    "answer_array[1:3, 4] = '4'\n",
    "#yellow\n",
    "answer_array[0, 0:2] = '7'\n",
    "answer_array[3, 1:3] = '9'\n",
    "#blue\n",
    "answer_array[3,0] = '5'\n",
    "answer_array[4,1] = '6'\n",
    "\n",
    "answer_list.append(answer_array)\n",
    "#Change 9 and 7\n",
    "new_array = answer_list[0].copy()\n",
    "new_array[0, 0:2] = '9'\n",
    "new_array[3, 1:3] = '7'\n",
    "answer_list.append(new_array)\n",
    "\n",
    "#Change 1 and 4\n",
    "new_list = [x.copy() for x in answer_list]\n",
    "for np_array in new_list:\n",
    "    np_array[2:4, 3] = '4'\n",
    "    np_array[1:3, 4] = '1'\n",
    "    answer_list.append(np_array)\n",
    "\n",
    "#change 5 and 6\n",
    "new_list = [x.copy() for x in answer_list]\n",
    "for np_array in new_list:\n",
    "    np_array[3,0] = '6'\n",
    "    np_array[4,1] = '5'\n",
    "    answer_list.append(np_array)\n",
    "\n",
    "answer_list_strings = []\n",
    "for answer in answer_list:\n",
    "    answer_list_strings.append(get_string(answer))\n",
    "answer_list_strings"
   ]
  },
  {
   "cell_type": "code",
   "execution_count": 5,
   "id": "b1cd74ce",
   "metadata": {},
   "outputs": [],
   "source": [
    "#shape class stores size, number, coordinates list for every shape\n",
    "#the class changes the cordinates according to input matrix, if feasible\n",
    "class shape:\n",
    "    def __init__(self, start_pos : list, number : int):\n",
    "        self.curr_pos = start_pos\n",
    "        self.number = str(number)\n",
    "        self.size = len(start_pos)\n",
    "        \n",
    "    def movements_U(self, matrix):\n",
    "        new_position = []\n",
    "        for i in range(self.size):\n",
    "            new_position.append([self.curr_pos[i][0] - 1, self.curr_pos[i][1]])\n",
    "            matrix[self.curr_pos[i][0] - 1, self.curr_pos[i][1]] = self.number\n",
    "        for i in range(self.size):\n",
    "            if self.curr_pos[i] not in new_position:\n",
    "                matrix[self.curr_pos[i][0], self.curr_pos[i][1]] = '0'\n",
    "            self.curr_pos[i][0] -= 1\n",
    "                    \n",
    "    def movements_D(self, matrix):\n",
    "        new_position = []\n",
    "        for i in range(self.size):\n",
    "            new_position.append([self.curr_pos[i][0] + 1, self.curr_pos[i][1]])\n",
    "            matrix[self.curr_pos[i][0] + 1, self.curr_pos[i][1]] = self.number\n",
    "        for i in range(self.size):\n",
    "            if self.curr_pos[i] not in new_position:\n",
    "                matrix[self.curr_pos[i][0], self.curr_pos[i][1]] = '0'\n",
    "            self.curr_pos[i][0] += 1\n",
    "                    \n",
    "    def movements_R(self, matrix):\n",
    "        new_position = []\n",
    "        for i in range(self.size):\n",
    "            new_position.append([self.curr_pos[i][0], self.curr_pos[i][1] + 1])\n",
    "            matrix[self.curr_pos[i][0], self.curr_pos[i][1] + 1] = self.number\n",
    "        for i in range(self.size):\n",
    "            if self.curr_pos[i] not in new_position:\n",
    "                matrix[self.curr_pos[i][0], self.curr_pos[i][1]] = '0'\n",
    "            self.curr_pos[i][1] += 1\n",
    "\n",
    "    def movements_L(self, matrix):\n",
    "        new_position = []\n",
    "        for i in range(self.size):\n",
    "            new_position.append([self.curr_pos[i][0], self.curr_pos[i][1] - 1])\n",
    "            matrix[self.curr_pos[i][0], self.curr_pos[i][1] - 1] = self.number\n",
    "        for i in range(self.size):\n",
    "            if self.curr_pos[i] not in new_position:\n",
    "                matrix[self.curr_pos[i][0], self.curr_pos[i][1]] = '0'\n",
    "            self.curr_pos[i][1] -= 1\n",
    "    \n",
    "    def copy(self):\n",
    "        return deepcopy(self)"
   ]
  },
  {
   "cell_type": "code",
   "execution_count": 6,
   "id": "132c6e92",
   "metadata": {},
   "outputs": [],
   "source": [
    "def is_valid_move(shape, movement, matrix):\n",
    "    valid_move = True\n",
    "    if movement == 'U':\n",
    "        for tup in shape.curr_pos:\n",
    "            if tup[0] - 1 < 0:\n",
    "                valid_move = False\n",
    "                break\n",
    "            if matrix[tup[0]-1][tup[1]] != '0' and matrix[tup[0]-1][tup[1]] != shape.number:\n",
    "                valid_move = False\n",
    "                break\n",
    "                    \n",
    "    if movement == 'D':\n",
    "        for tup in shape.curr_pos:\n",
    "            if tup[0] + 1 > 4:\n",
    "                valid_move = False\n",
    "                break\n",
    "            if matrix[tup[0]+1][tup[1]] != '0' and matrix[tup[0]+1][tup[1]] != shape.number:\n",
    "                valid_move = False\n",
    "                break\n",
    "                    \n",
    "    if movement == 'R':\n",
    "        for tup in shape.curr_pos:\n",
    "            if tup[1] + 1 > 4:\n",
    "                valid_move = False\n",
    "                break\n",
    "            if matrix[tup[0]][tup[1]+1] != '0' and matrix[tup[0]][tup[1]+1] != shape.number:\n",
    "                valid_move = False\n",
    "                break\n",
    "\n",
    "    if movement == 'L':\n",
    "        for tup in shape.curr_pos:\n",
    "            if tup[1] - 1 < 0:\n",
    "                valid_move = False\n",
    "                break\n",
    "            if matrix[tup[0]][tup[1]-1] != '0' and matrix[tup[0]][tup[1]-1] != shape.number:\n",
    "                valid_move = False\n",
    "                break\n",
    "    return valid_move"
   ]
  },
  {
   "cell_type": "code",
   "execution_count": 7,
   "id": "cbf237c7",
   "metadata": {},
   "outputs": [],
   "source": [
    "#State score, configuration (in the form of string), shape_list, path leading to that state\n",
    "class state:\n",
    "    def __init__(self, matrix, shape_list, score, path):\n",
    "        self.matrix_str = get_string(matrix)\n",
    "        self.shape_list = shape_list\n",
    "        self.score = score\n",
    "        self.path = path\n",
    "    \n",
    "    def __repr__(self):\n",
    "        return self.matrix_str\n",
    "    \n",
    "    def get_matrix(self):\n",
    "        return np.array(list(self.matrix_str)).reshape((5,5))"
   ]
  },
  {
   "cell_type": "code",
   "execution_count": 8,
   "id": "a6068db3",
   "metadata": {},
   "outputs": [],
   "source": [
    "def movements(shape, movement, score, path, matrix):\n",
    "    \"\"\"\n",
    "    Movements takes shape, movement(L,R,U,D), score, path, matrix (for shape's methods)\n",
    "    \"\"\"\n",
    "    if movement == 'U':\n",
    "        shape.movements_U(matrix)\n",
    "    if movement == 'D':\n",
    "        shape.movements_D(matrix)\n",
    "    if movement == 'L':\n",
    "        shape.movements_L(matrix)\n",
    "    if movement == 'R':\n",
    "        shape.movements_R(matrix)\n",
    "    path += (shape.number + movement)\n",
    "    score += (5-shape.size)\n",
    "    return score, path"
   ]
  },
  {
   "cell_type": "code",
   "execution_count": 9,
   "id": "c73785e0",
   "metadata": {},
   "outputs": [],
   "source": [
    "#Initialize all the shapes\n",
    "shape_1 = shape([[0,0], [1,0]], 1)\n",
    "shape_2 = shape([[0,1], [1,1], [0,2]], 2)\n",
    "shape_3 = shape([[0,3], [1,2], [1,3]], 3)\n",
    "shape_4 = shape([[0,4], [1,4]], 4)\n",
    "shape_5 = shape([[2,0]], 5)\n",
    "shape_6 = shape([[2,1]], 6)\n",
    "shape_7 = shape([[2,2], [2,3]], 7)\n",
    "shape_8 = shape([[2,4], [3,2], [3,3], [3,4]], 8)\n",
    "shape_9 = shape([[3,0], [3,1]], 9)"
   ]
  },
  {
   "cell_type": "code",
   "execution_count": 10,
   "id": "204264c1",
   "metadata": {},
   "outputs": [],
   "source": [
    "shape_list = []\n",
    "shape_list.append(shape_8) #size 4\n",
    "shape_list.append(shape_3) #size 3\n",
    "shape_list.append(shape_2) #size 3\n",
    "shape_list.append(shape_9) #size 2\n",
    "shape_list.append(shape_7) #size 2\n",
    "shape_list.append(shape_4) #size 2\n",
    "shape_list.append(shape_1) #size 2\n",
    "shape_list.append(shape_6) #size 1\n",
    "shape_list.append(shape_5) #size 1"
   ]
  },
  {
   "cell_type": "code",
   "execution_count": 11,
   "id": "c3edf7b1",
   "metadata": {},
   "outputs": [],
   "source": [
    "#Fill the empty matrix (Initial State)\n",
    "for shape in shape_list:\n",
    "    shape_cordi = shape.curr_pos\n",
    "    for tup in shape_cordi:\n",
    "        x = tup[0]\n",
    "        y = tup[1]\n",
    "        occupied_matrix[x][y] = shape.number"
   ]
  },
  {
   "cell_type": "code",
   "execution_count": 12,
   "id": "4ef0bff0",
   "metadata": {},
   "outputs": [
    {
     "data": {
      "text/plain": [
       "array([['1', '2', '2', '3', '4'],\n",
       "       ['1', '2', '3', '3', '4'],\n",
       "       ['5', '6', '7', '7', '8'],\n",
       "       ['9', '9', '8', '8', '8'],\n",
       "       ['0', '0', '0', '0', '0']], dtype='<U11')"
      ]
     },
     "execution_count": 12,
     "metadata": {},
     "output_type": "execute_result"
    }
   ],
   "source": [
    "#Check if every is going as expected\n",
    "occupied_matrix"
   ]
  },
  {
   "cell_type": "code",
   "execution_count": 13,
   "id": "328dfe17",
   "metadata": {},
   "outputs": [
    {
     "name": "stdout",
     "output_type": "stream",
     "text": [
      "[['1' '2' '2' '3' '4']\n",
      " ['1' '2' '3' '3' '4']\n",
      " ['5' '6' '7' '7' '8']\n",
      " ['9' '9' '8' '8' '8']\n",
      " ['0' '0' '0' '0' '0']]\n"
     ]
    }
   ],
   "source": [
    "#state_map = {'np_string' : state_class}\n",
    "#create the first state\n",
    "first_state = state(occupied_matrix.copy(), shape_list, 0, '')\n",
    "state_map = {}\n",
    "state_map[repr(first_state)] = first_state\n",
    "state_map_id_list = deque([repr(first_state)])\n",
    "\n",
    "print(state_map[repr(first_state)].get_matrix())"
   ]
  },
  {
   "cell_type": "code",
   "execution_count": 14,
   "id": "3b4e7170",
   "metadata": {},
   "outputs": [
    {
     "name": "stdout",
     "output_type": "stream",
     "text": [
      "4029\n",
      "6558\n",
      "8650\n",
      "10376\n",
      "12157\n",
      "14026\n",
      "15679\n",
      "17613\n",
      "18940\n",
      "20107\n",
      "21036\n",
      "22142\n",
      "22770\n",
      "23780\n",
      "24170\n",
      "25094\n",
      "25725\n",
      "26245\n",
      "27235\n",
      "27858\n",
      "28837\n",
      "29336\n",
      "30171\n",
      "31275\n",
      "31838\n",
      "32829\n",
      "33861\n",
      "34441\n",
      "35356\n",
      "35843\n",
      "37105\n",
      "37748\n",
      "38609\n",
      "39224\n",
      "39515\n",
      "39985\n",
      "39229\n",
      "38719\n",
      "37055\n",
      "35939\n",
      "Solving took 628.2243413925171 seconds\n"
     ]
    }
   ],
   "source": [
    "t1 = time.time()\n",
    "#The idea is to get all permutations of every state, while updating score and path for the new_state\n",
    "#We used a map for storing all the states, and a deque to store keys of that map\n",
    "#To speed up the algorithm, we only added new_state if they were not previously deleted (those states whoes permutations are already computed)\n",
    "#If we reach same state, we compare the lowest score, and the state with lower score is stores in map\n",
    "activity = ['L', 'R', 'U', 'D']\n",
    "redundant_states = {}\n",
    "found = False\n",
    "count = 0\n",
    "while len(state_map_id_list) != 0:\n",
    "    count += 1\n",
    "    if count % 10000 == 0:\n",
    "        print(len(state_map_id_list))\n",
    "    parent_id = state_map_id_list.popleft()\n",
    "    parent_score = state_map[parent_id].score\n",
    "    parent_path = state_map[parent_id].path\n",
    "    parent_matrix = state_map[parent_id].get_matrix()\n",
    "    parent_shape_list = state_map[parent_id].shape_list\n",
    "    for shape_idx in range(9):\n",
    "        for act in activity:\n",
    "            if not is_valid_move(parent_shape_list[shape_idx], act, parent_matrix):\n",
    "                continue\n",
    "                \n",
    "            new_shape_list = [x.copy() for x in parent_shape_list]\n",
    "            #Create occupied matrix\n",
    "            new_matrix = parent_matrix.copy() \n",
    "            score = parent_score\n",
    "            path = parent_path\n",
    "            new_score, new_path = movements(new_shape_list[shape_idx], act, score, path, new_matrix)\n",
    "            \n",
    "            #Skip states with score more than 100\n",
    "            if new_score > 100:\n",
    "                continue\n",
    "                \n",
    "            new_state = state(new_matrix, new_shape_list, new_score, new_path)\n",
    "            new_state_id = repr(new_state)\n",
    "            \n",
    "            #already processed and deleted\n",
    "            if new_state_id in redundant_states:\n",
    "                continue\n",
    "            \n",
    "            if new_state_id in state_map:\n",
    "                #identical state with lower score\n",
    "                if new_score < state_map[new_state_id].score:\n",
    "                    state_map[new_state_id] = new_state\n",
    "            else:\n",
    "                state_map[new_state_id] = new_state\n",
    "                state_map_id_list.append(new_state_id)\n",
    "            \n",
    "            #Finally we see if our current state matches any of our answers\n",
    "            if new_state_id in answer_list_strings:\n",
    "                found = True\n",
    "                break\n",
    "        if found: break\n",
    "    if found: break \n",
    "    redundant_states[parent_id] = 1\n",
    "    del state_map[parent_id]\n",
    "t2 = time.time()\n",
    "print(f\"Solving took {t2 - t1} seconds\")"
   ]
  },
  {
   "cell_type": "code",
   "execution_count": 15,
   "id": "8a891829",
   "metadata": {},
   "outputs": [
    {
     "name": "stdout",
     "output_type": "stream",
     "text": [
      "True\n"
     ]
    }
   ],
   "source": [
    "print(found)"
   ]
  },
  {
   "cell_type": "code",
   "execution_count": 16,
   "id": "8a2ca7c9",
   "metadata": {},
   "outputs": [
    {
     "data": {
      "text/plain": [
       "'7702200324033146991805888'"
      ]
     },
     "execution_count": 16,
     "metadata": {},
     "output_type": "execute_result"
    }
   ],
   "source": [
    "repr(new_state)"
   ]
  },
  {
   "cell_type": "code",
   "execution_count": 17,
   "id": "fcdcc8a9",
   "metadata": {},
   "outputs": [
    {
     "data": {
      "text/plain": [
       "array([['7', '7', '0', '2', '2'],\n",
       "       ['0', '0', '3', '2', '4'],\n",
       "       ['0', '3', '3', '1', '4'],\n",
       "       ['6', '9', '9', '1', '8'],\n",
       "       ['0', '5', '8', '8', '8']], dtype='<U1')"
      ]
     },
     "execution_count": 17,
     "metadata": {},
     "output_type": "execute_result"
    }
   ],
   "source": [
    "new_state.get_matrix()"
   ]
  },
  {
   "cell_type": "code",
   "execution_count": 18,
   "id": "e3bb92e6",
   "metadata": {},
   "outputs": [
    {
     "data": {
      "text/plain": [
       "100"
      ]
     },
     "execution_count": 18,
     "metadata": {},
     "output_type": "execute_result"
    }
   ],
   "source": [
    "new_state.score"
   ]
  },
  {
   "cell_type": "code",
   "execution_count": 20,
   "id": "927c927f",
   "metadata": {},
   "outputs": [
    {
     "data": {
      "text/plain": [
       "'8D9D4D6D7L5D7L3D3D2R2R1R1R7U7U6U3L6L6U5U3L1D1D1R3R3U9U9R5D6D5D6D5R'"
      ]
     },
     "execution_count": 20,
     "metadata": {},
     "output_type": "execute_result"
    }
   ],
   "source": [
    "new_state.path"
   ]
  }
 ],
 "metadata": {
  "kernelspec": {
   "display_name": "Python 3 (ipykernel)",
   "language": "python",
   "name": "python3"
  },
  "language_info": {
   "codemirror_mode": {
    "name": "ipython",
    "version": 3
   },
   "file_extension": ".py",
   "mimetype": "text/x-python",
   "name": "python",
   "nbconvert_exporter": "python",
   "pygments_lexer": "ipython3",
   "version": "3.9.13"
  }
 },
 "nbformat": 4,
 "nbformat_minor": 5
}
