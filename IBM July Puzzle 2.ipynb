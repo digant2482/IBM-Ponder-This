{
 "cells": [
  {
   "cell_type": "code",
   "execution_count": 1,
   "id": "f751b588",
   "metadata": {
    "id": "f751b588"
   },
   "outputs": [],
   "source": [
    "import numpy as np\n",
    "from collections import deque\n",
    "from copy import deepcopy\n",
    "import time"
   ]
  },
  {
   "cell_type": "code",
   "execution_count": 2,
   "id": "161f9526",
   "metadata": {
    "id": "161f9526"
   },
   "outputs": [],
   "source": [
    "occupied_matrix = np.zeros((5,5), dtype = int)\n",
    "occupied_matrix = occupied_matrix.astype(str)\n",
    "answer_array = np.zeros((5,5), dtype = int)\n",
    "answer_array = answer_array.astype(str)"
   ]
  },
  {
   "cell_type": "code",
   "execution_count": 3,
   "id": "3661fac8",
   "metadata": {
    "id": "3661fac8"
   },
   "outputs": [],
   "source": [
    "def get_string(np_array):\n",
    "    \"\"\"\n",
    "    Convert a np_array to a string\n",
    "    To be used as immutable key\n",
    "    \"\"\"\n",
    "    string = \"\"\n",
    "    for i in range(5):\n",
    "        for j in range(5):\n",
    "            string += np_array[i][j]\n",
    "    return string"
   ]
  },
  {
   "cell_type": "code",
   "execution_count": 4,
   "id": "c5515dfd",
   "metadata": {
    "colab": {
     "base_uri": "https://localhost:8080/"
    },
    "id": "c5515dfd",
    "outputId": "fc63f914-884d-43ff-d2ee-d585146e0bfa"
   },
   "outputs": [
    {
     "data": {
      "text/plain": [
       "['0223012338108884005647799',\n",
       " '0223012338108884005649977',\n",
       " '0223042338408881005617799',\n",
       " '0223042338408881005619977',\n",
       " '0223012338108884006547799',\n",
       " '0223012338108884006549977',\n",
       " '0223042338408881006517799',\n",
       " '0223042338408881006519977']"
      ]
     },
     "execution_count": 4,
     "metadata": {},
     "output_type": "execute_result"
    }
   ],
   "source": [
    "### Find all variations of answers\n",
    "answer_list = []\n",
    "#purple\n",
    "answer_array[1,4] = '8'\n",
    "answer_array[2,2:5] = '8'\n",
    "#red\n",
    "answer_array[1, 2] = '3'\n",
    "answer_array[0:2, 3] = '3'\n",
    "#green\n",
    "answer_array[0, 1:3] = '2'\n",
    "answer_array[1, 1] = '2'\n",
    "#orange\n",
    "answer_array[1:3, 0] = '1'\n",
    "answer_array[3:5, 0] = '4'\n",
    "#yellow\n",
    "answer_array[4, 1:3] = '7'\n",
    "answer_array[4, 3:5] = '9'\n",
    "#blue\n",
    "answer_array[3, 3] = '5'\n",
    "answer_array[3, 4] = '6'\n",
    "\n",
    "answer_list.append(answer_array)\n",
    "#Change 9 and 7\n",
    "new_array = answer_list[0].copy()\n",
    "new_array[4, 1:3] = '9'\n",
    "new_array[4, 3:5] = '7'\n",
    "answer_list.append(new_array)\n",
    "\n",
    "#Change 1 and 4\n",
    "new_list = [x.copy() for x in answer_list]\n",
    "for np_array in new_list:\n",
    "    np_array[1:3, 0] = '4'\n",
    "    np_array[3:5, 0] = '1'\n",
    "    answer_list.append(np_array)\n",
    "\n",
    "#change 5 and 6\n",
    "new_list =[x.copy() for x in answer_list]\n",
    "for np_array in new_list:\n",
    "    np_array[3,3] = '6'\n",
    "    np_array[3,4] = '5'\n",
    "    answer_list.append(np_array)\n",
    "\n",
    "answer_list_strings = []\n",
    "for answer in answer_list:\n",
    "    answer_list_strings.append(get_string(answer))\n",
    "answer_list_strings\n"
   ]
  },
  {
   "cell_type": "code",
   "execution_count": 5,
   "id": "b1cd74ce",
   "metadata": {
    "id": "b1cd74ce"
   },
   "outputs": [],
   "source": [
    "#shape class stores size, number, coordinates list for every shape\n",
    "#the class changes the cordinates according to input matrix, if feasible\n",
    "class shape:\n",
    "    def __init__(self, start_pos : list, number : int):\n",
    "        self.curr_pos = start_pos\n",
    "        self.number = str(number)\n",
    "        self.size = len(start_pos)\n",
    "\n",
    "    def movements_U(self, matrix):\n",
    "        new_position = []\n",
    "        for i in range(self.size):\n",
    "            new_position.append([self.curr_pos[i][0] - 1, self.curr_pos[i][1]])\n",
    "            matrix[self.curr_pos[i][0] - 1, self.curr_pos[i][1]] = self.number\n",
    "        for i in range(self.size):\n",
    "            if self.curr_pos[i] not in new_position:\n",
    "                matrix[self.curr_pos[i][0], self.curr_pos[i][1]] = '0'\n",
    "            self.curr_pos[i][0] -= 1\n",
    "\n",
    "    def movements_D(self, matrix):\n",
    "        new_position = []\n",
    "        for i in range(self.size):\n",
    "            new_position.append([self.curr_pos[i][0] + 1, self.curr_pos[i][1]])\n",
    "            matrix[self.curr_pos[i][0] + 1, self.curr_pos[i][1]] = self.number\n",
    "        for i in range(self.size):\n",
    "            if self.curr_pos[i] not in new_position:\n",
    "                matrix[self.curr_pos[i][0], self.curr_pos[i][1]] = '0'\n",
    "            self.curr_pos[i][0] += 1\n",
    "\n",
    "    def movements_R(self, matrix):\n",
    "        new_position = []\n",
    "        for i in range(self.size):\n",
    "            new_position.append([self.curr_pos[i][0], self.curr_pos[i][1] + 1])\n",
    "            matrix[self.curr_pos[i][0], self.curr_pos[i][1] + 1] = self.number\n",
    "        for i in range(self.size):\n",
    "            if self.curr_pos[i] not in new_position:\n",
    "                matrix[self.curr_pos[i][0], self.curr_pos[i][1]] = '0'\n",
    "            self.curr_pos[i][1] += 1\n",
    "\n",
    "    def movements_L(self, matrix):\n",
    "        new_position = []\n",
    "        for i in range(self.size):\n",
    "            new_position.append([self.curr_pos[i][0], self.curr_pos[i][1] - 1])\n",
    "            matrix[self.curr_pos[i][0], self.curr_pos[i][1] - 1] = self.number\n",
    "        for i in range(self.size):\n",
    "            if self.curr_pos[i] not in new_position:\n",
    "                matrix[self.curr_pos[i][0], self.curr_pos[i][1]] = '0'\n",
    "            self.curr_pos[i][1] -= 1\n",
    "\n",
    "    def copy(self):\n",
    "        return deepcopy(self)"
   ]
  },
  {
   "cell_type": "code",
   "execution_count": 6,
   "id": "132c6e92",
   "metadata": {
    "id": "132c6e92"
   },
   "outputs": [],
   "source": [
    "def is_valid_move(shape, movement, matrix):\n",
    "    valid_move = True\n",
    "    if movement == 'U':\n",
    "        for tup in shape.curr_pos:\n",
    "            if tup[0] - 1 < 0:\n",
    "                valid_move = False\n",
    "                break\n",
    "            if matrix[tup[0]-1][tup[1]] != '0' and matrix[tup[0]-1][tup[1]] != shape.number:\n",
    "                valid_move = False\n",
    "                break\n",
    "\n",
    "    if movement == 'D':\n",
    "        for tup in shape.curr_pos:\n",
    "            if tup[0] + 1 > 4:\n",
    "                valid_move = False\n",
    "                break\n",
    "            if matrix[tup[0]+1][tup[1]] != '0' and matrix[tup[0]+1][tup[1]] != shape.number:\n",
    "                valid_move = False\n",
    "                break\n",
    "\n",
    "    if movement == 'R':\n",
    "        for tup in shape.curr_pos:\n",
    "            if tup[1] + 1 > 4:\n",
    "                valid_move = False\n",
    "                break\n",
    "            if matrix[tup[0]][tup[1]+1] != '0' and matrix[tup[0]][tup[1]+1] != shape.number:\n",
    "                valid_move = False\n",
    "                break\n",
    "\n",
    "    if movement == 'L':\n",
    "        for tup in shape.curr_pos:\n",
    "            if tup[1] - 1 < 0:\n",
    "                valid_move = False\n",
    "                break\n",
    "            if matrix[tup[0]][tup[1]-1] != '0' and matrix[tup[0]][tup[1]-1] != shape.number:\n",
    "                valid_move = False\n",
    "                break\n",
    "    return valid_move"
   ]
  },
  {
   "cell_type": "code",
   "execution_count": 7,
   "id": "cbf237c7",
   "metadata": {
    "id": "cbf237c7"
   },
   "outputs": [],
   "source": [
    "#State score, configuration (in the form of string), shape_list, path leading to that state\n",
    "class state:\n",
    "    def __init__(self, matrix, shape_list, score, path):\n",
    "        self.matrix_str = get_string(matrix)\n",
    "        self.shape_list = shape_list\n",
    "        self.score = score\n",
    "        self.path = path\n",
    "\n",
    "    def __repr__(self):\n",
    "        return self.matrix_str\n",
    "\n",
    "    def get_matrix(self):\n",
    "        return np.array(list(self.matrix_str)).reshape((5,5))"
   ]
  },
  {
   "cell_type": "code",
   "execution_count": 8,
   "id": "a6068db3",
   "metadata": {
    "id": "a6068db3"
   },
   "outputs": [],
   "source": [
    "def movements(shape, movement, score, path, matrix):\n",
    "    \"\"\"\n",
    "    Movements takes shape, movement(L,R,U,D), score, path, matrix (for shape's methods)\n",
    "    \"\"\"\n",
    "    if movement == 'U':\n",
    "        shape.movements_U(matrix)\n",
    "    if movement == 'D':\n",
    "        shape.movements_D(matrix)\n",
    "    if movement == 'L':\n",
    "        shape.movements_L(matrix)\n",
    "    if movement == 'R':\n",
    "        shape.movements_R(matrix)\n",
    "    path += (shape.number + movement)\n",
    "    score += (5-shape.size)\n",
    "    return score, path"
   ]
  },
  {
   "cell_type": "code",
   "execution_count": 9,
   "id": "c73785e0",
   "metadata": {
    "id": "c73785e0"
   },
   "outputs": [],
   "source": [
    "#Initialize all the shapes\n",
    "shape_1 = shape([[0,0], [1,0]], 1)\n",
    "shape_2 = shape([[0,1], [1,1], [0,2]], 2)\n",
    "shape_3 = shape([[0,3], [1,2], [1,3]], 3)\n",
    "shape_4 = shape([[0,4], [1,4]], 4)\n",
    "shape_5 = shape([[2,0]], 5)\n",
    "shape_6 = shape([[2,1]], 6)\n",
    "shape_7 = shape([[2,2], [2,3]], 7)\n",
    "shape_8 = shape([[2,4], [3,2], [3,3], [3,4]], 8)\n",
    "shape_9 = shape([[3,0], [3,1]], 9)"
   ]
  },
  {
   "cell_type": "code",
   "execution_count": 10,
   "id": "204264c1",
   "metadata": {
    "id": "204264c1"
   },
   "outputs": [],
   "source": [
    "shape_list = []\n",
    "shape_list.append(shape_8) #size 4\n",
    "shape_list.append(shape_3) #size 3\n",
    "shape_list.append(shape_2) #size 3\n",
    "shape_list.append(shape_9) #size 2\n",
    "shape_list.append(shape_7) #size 2\n",
    "shape_list.append(shape_4) #size 2\n",
    "shape_list.append(shape_1) #size 2\n",
    "shape_list.append(shape_6) #size 1\n",
    "shape_list.append(shape_5) #size 1"
   ]
  },
  {
   "cell_type": "code",
   "execution_count": 11,
   "id": "c3edf7b1",
   "metadata": {
    "id": "c3edf7b1"
   },
   "outputs": [],
   "source": [
    "#Fill the empty matrix (Initial State)\n",
    "for shape in shape_list:\n",
    "    shape_cordi = shape.curr_pos\n",
    "    for tup in shape_cordi:\n",
    "        x = tup[0]\n",
    "        y = tup[1]\n",
    "        occupied_matrix[x][y] = shape.number"
   ]
  },
  {
   "cell_type": "code",
   "execution_count": 12,
   "id": "4ef0bff0",
   "metadata": {
    "colab": {
     "base_uri": "https://localhost:8080/"
    },
    "id": "4ef0bff0",
    "outputId": "af97d25e-1361-41ca-e84f-6377889bb184"
   },
   "outputs": [
    {
     "data": {
      "text/plain": [
       "array([['1', '2', '2', '3', '4'],\n",
       "       ['1', '2', '3', '3', '4'],\n",
       "       ['5', '6', '7', '7', '8'],\n",
       "       ['9', '9', '8', '8', '8'],\n",
       "       ['0', '0', '0', '0', '0']], dtype='<U21')"
      ]
     },
     "execution_count": 12,
     "metadata": {},
     "output_type": "execute_result"
    }
   ],
   "source": [
    "#Check if every is going as expected\n",
    "occupied_matrix"
   ]
  },
  {
   "cell_type": "code",
   "execution_count": 13,
   "id": "328dfe17",
   "metadata": {
    "colab": {
     "base_uri": "https://localhost:8080/"
    },
    "id": "328dfe17",
    "outputId": "6166e8b7-f103-405b-b8e2-4aaeac8d19c5"
   },
   "outputs": [
    {
     "name": "stdout",
     "output_type": "stream",
     "text": [
      "[['1' '2' '2' '3' '4']\n",
      " ['1' '2' '3' '3' '4']\n",
      " ['5' '6' '7' '7' '8']\n",
      " ['9' '9' '8' '8' '8']\n",
      " ['0' '0' '0' '0' '0']]\n"
     ]
    }
   ],
   "source": [
    "#state_map = {'np_string' : state_class}\n",
    "#create the first state\n",
    "first_state = state(occupied_matrix.copy(), shape_list, 0, '')\n",
    "state_map = {}\n",
    "state_map[repr(first_state)] = first_state\n",
    "state_map_id_list = deque([repr(first_state)])\n",
    "\n",
    "print(state_map[repr(first_state)].get_matrix())"
   ]
  },
  {
   "cell_type": "code",
   "execution_count": 14,
   "id": "3b4e7170",
   "metadata": {
    "colab": {
     "base_uri": "https://localhost:8080/"
    },
    "id": "3b4e7170",
    "outputId": "e8204e0d-ec52-4a24-f280-fcf7a2d24f8e"
   },
   "outputs": [
    {
     "name": "stdout",
     "output_type": "stream",
     "text": [
      "4029\n",
      "6558\n",
      "8650\n",
      "10376\n",
      "12157\n",
      "14026\n",
      "15679\n",
      "17613\n",
      "18940\n",
      "20107\n",
      "21036\n",
      "22142\n",
      "22770\n",
      "23780\n",
      "24170\n",
      "25094\n",
      "25725\n",
      "26245\n",
      "27235\n",
      "27858\n",
      "28837\n",
      "29336\n",
      "30171\n",
      "31275\n",
      "31838\n",
      "32829\n",
      "33861\n",
      "34443\n",
      "35358\n",
      "35846\n",
      "37129\n",
      "37886\n",
      "38814\n",
      "39549\n",
      "40392\n",
      "41499\n",
      "42290\n",
      "42819\n",
      "43527\n",
      "44556\n",
      "45594\n",
      "46039\n",
      "46509\n",
      "47143\n",
      "48414\n",
      "48961\n",
      "49390\n",
      "49868\n",
      "50740\n",
      "51889\n",
      "52518\n",
      "53114\n",
      "53815\n",
      "54666\n",
      "55930\n",
      "56700\n",
      "57307\n",
      "58307\n",
      "58690\n",
      "60219\n",
      "61041\n",
      "62052\n",
      "62599\n",
      "63152\n",
      "64289\n",
      "65832\n",
      "66655\n",
      "67738\n",
      "68251\n",
      "69027\n",
      "69773\n",
      "71458\n",
      "72782\n",
      "73455\n",
      "74477\n",
      "74680\n",
      "75797\n",
      "76714\n",
      "78388\n",
      "80407\n",
      "80834\n",
      "81984\n",
      "82435\n",
      "83054\n",
      "84192\n",
      "84753\n",
      "86776\n",
      "88617\n",
      "89063\n",
      "90193\n",
      "90899\n",
      "91199\n",
      "92166\n",
      "93059\n",
      "94406\n",
      "96230\n",
      "97531\n",
      "97924\n",
      "99409\n",
      "100370\n",
      "100792\n",
      "101810\n",
      "102849\n",
      "103882\n",
      "105175\n",
      "106777\n",
      "107537\n",
      "108558\n",
      "109856\n",
      "110923\n",
      "111501\n",
      "112461\n",
      "113593\n",
      "114252\n",
      "115809\n",
      "117037\n",
      "118346\n",
      "118802\n",
      "120017\n",
      "121256\n",
      "122390\n",
      "122825\n",
      "124052\n",
      "124962\n",
      "126206\n",
      "127128\n",
      "128221\n",
      "129529\n",
      "130443\n",
      "130882\n",
      "131986\n",
      "133339\n",
      "134050\n",
      "134285\n",
      "135143\n",
      "136382\n",
      "137506\n",
      "138119\n",
      "139053\n",
      "139934\n",
      "141117\n",
      "142126\n",
      "142478\n",
      "143530\n",
      "145043\n",
      "145713\n",
      "146094\n",
      "146566\n",
      "147480\n",
      "148281\n",
      "149477\n",
      "149837\n",
      "150779\n",
      "151494\n",
      "152762\n",
      "153704\n",
      "154092\n",
      "154866\n",
      "155876\n",
      "156708\n",
      "157136\n",
      "157207\n",
      "157814\n",
      "158955\n",
      "159404\n",
      "160514\n",
      "160978\n",
      "161807\n",
      "162520\n",
      "163791\n",
      "164138\n",
      "164697\n",
      "165178\n",
      "165366\n",
      "165062\n",
      "165100\n",
      "165259\n",
      "165313\n",
      "165524\n",
      "165937\n",
      "166277\n",
      "166868\n",
      "166290\n",
      "166748\n",
      "167104\n",
      "167793\n",
      "167689\n",
      "166925\n",
      "167223\n",
      "167005\n",
      "165425\n",
      "162201\n",
      "161939\n",
      "161525\n",
      "161969\n",
      "161307\n",
      "160334\n",
      "159504\n",
      "157869\n",
      "156837\n",
      "156798\n",
      "155707\n",
      "155568\n",
      "152878\n",
      "150561\n",
      "149217\n",
      "147514\n",
      "143065\n",
      "141385\n",
      "140954\n",
      "139461\n",
      "137271\n",
      "134957\n",
      "132143\n",
      "128860\n",
      "126730\n",
      "124671\n",
      "121206\n",
      "117397\n",
      "112691\n",
      "109806\n",
      "105525\n",
      "101586\n",
      "100021\n",
      "96861\n",
      "92734\n",
      "88472\n",
      "83389\n",
      "Solving took 2647.299971342087 seconds\n"
     ]
    }
   ],
   "source": [
    "t1 = time.time()\n",
    "#The idea is to get all permutations of every state, while updating score and path for the new_state\n",
    "#We used a map for storing all the states, and a deque to store keys of that map\n",
    "#To speed up the algorithm, we only added new_state if they were not previously deleted (those states whoes permutations are already computed)\n",
    "#If we reach same state, we compare the lowest score, and the state with lower score is stores in map\n",
    "activity = ['L', 'R', 'U', 'D']\n",
    "redundant_states = {}\n",
    "found = False\n",
    "count = 0\n",
    "while len(state_map_id_list) != 0:\n",
    "    count += 1\n",
    "    if count % 10000 == 0:\n",
    "        print(len(state_map_id_list))\n",
    "    parent_id = state_map_id_list.popleft()\n",
    "    parent_score = state_map[parent_id].score\n",
    "    parent_path = state_map[parent_id].path\n",
    "    parent_matrix = state_map[parent_id].get_matrix()\n",
    "    parent_shape_list = state_map[parent_id].shape_list\n",
    "    for shape_idx in range(9):\n",
    "        for act in activity:\n",
    "            if not is_valid_move(parent_shape_list[shape_idx], act, parent_matrix):\n",
    "                continue\n",
    "\n",
    "            new_shape_list = [x.copy() for x in parent_shape_list]\n",
    "            #Create occupied matrix\n",
    "            new_matrix = parent_matrix.copy()\n",
    "            score = parent_score\n",
    "            path = parent_path\n",
    "            new_score, new_path = movements(new_shape_list[shape_idx], act, score, path, new_matrix)\n",
    "\n",
    "            #Skip states with score more than 100\n",
    "            if new_score > 150:\n",
    "                continue\n",
    "\n",
    "            new_state = state(new_matrix, new_shape_list, new_score, new_path)\n",
    "            new_state_id = repr(new_state)\n",
    "\n",
    "            #already processed and deleted\n",
    "            if new_state_id in redundant_states:\n",
    "                continue\n",
    "\n",
    "            if new_state_id in state_map:\n",
    "                #identical state with lower score\n",
    "                if new_score < state_map[new_state_id].score:\n",
    "                    state_map[new_state_id] = new_state\n",
    "            else:\n",
    "                state_map[new_state_id] = new_state\n",
    "                state_map_id_list.append(new_state_id)\n",
    "\n",
    "            #Finally we see if our current state matches any of our answers\n",
    "            if new_state_id in answer_list_strings:\n",
    "                found = True\n",
    "                break\n",
    "        if found: break\n",
    "    if found: break\n",
    "    redundant_states[parent_id] = 1\n",
    "    del state_map[parent_id]\n",
    "t2 = time.time()\n",
    "print(f\"Solving took {t2 - t1} seconds\")"
   ]
  },
  {
   "cell_type": "code",
   "execution_count": 15,
   "id": "8a891829",
   "metadata": {
    "colab": {
     "base_uri": "https://localhost:8080/"
    },
    "id": "8a891829",
    "outputId": "9271118b-9058-465b-b172-7cc3fe688a76"
   },
   "outputs": [
    {
     "name": "stdout",
     "output_type": "stream",
     "text": [
      "True\n"
     ]
    }
   ],
   "source": [
    "print(found)"
   ]
  },
  {
   "cell_type": "code",
   "execution_count": 16,
   "id": "8a2ca7c9",
   "metadata": {
    "colab": {
     "base_uri": "https://localhost:8080/",
     "height": 35
    },
    "id": "8a2ca7c9",
    "outputId": "53ba7e57-7572-4aa7-db31-e89dea423c92"
   },
   "outputs": [
    {
     "data": {
      "application/vnd.google.colaboratory.intrinsic+json": {
       "type": "string"
      },
      "text/plain": [
       "'0223042338408881005617799'"
      ]
     },
     "execution_count": 16,
     "metadata": {},
     "output_type": "execute_result"
    }
   ],
   "source": [
    "repr(new_state)"
   ]
  },
  {
   "cell_type": "code",
   "execution_count": 17,
   "id": "fcdcc8a9",
   "metadata": {
    "colab": {
     "base_uri": "https://localhost:8080/"
    },
    "id": "fcdcc8a9",
    "outputId": "dc6d681f-67e0-4624-bc23-926658fbfb4c"
   },
   "outputs": [
    {
     "data": {
      "text/plain": [
       "array([['0', '2', '2', '3', '0'],\n",
       "       ['4', '2', '3', '3', '8'],\n",
       "       ['4', '0', '8', '8', '8'],\n",
       "       ['1', '0', '0', '5', '6'],\n",
       "       ['1', '7', '7', '9', '9']], dtype='<U1')"
      ]
     },
     "execution_count": 17,
     "metadata": {},
     "output_type": "execute_result"
    }
   ],
   "source": [
    "new_state.get_matrix()"
   ]
  },
  {
   "cell_type": "code",
   "execution_count": 18,
   "id": "e3bb92e6",
   "metadata": {
    "colab": {
     "base_uri": "https://localhost:8080/"
    },
    "id": "e3bb92e6",
    "outputId": "e2413b75-b025-4bc9-c473-9010346a19d2"
   },
   "outputs": [
    {
     "data": {
      "text/plain": [
       "150"
      ]
     },
     "execution_count": 18,
     "metadata": {},
     "output_type": "execute_result"
    }
   ],
   "source": [
    "new_state.score"
   ]
  },
  {
   "cell_type": "code",
   "execution_count": 19,
   "id": "927c927f",
   "metadata": {
    "colab": {
     "base_uri": "https://localhost:8080/",
     "height": 35
    },
    "id": "927c927f",
    "outputId": "35846404-a9b9-4434-d9cf-376325083330"
   },
   "outputs": [
    {
     "data": {
      "application/vnd.google.colaboratory.intrinsic+json": {
       "type": "string"
      },
      "text/plain": [
       "'8D9D7D7L4D6R5R1D1D2L3L4L4D3R3R2R2R1U7L1U5L6L4L3D2R4U4U4L2L3L8U9R9R9R7D7R6D5R1D1D4L2L3U8U1D4D6R6R6R5D5R5R'"
      ]
     },
     "execution_count": 19,
     "metadata": {},
     "output_type": "execute_result"
    }
   ],
   "source": [
    "new_state.path"
   ]
  }
 ],
 "metadata": {
  "colab": {
   "provenance": []
  },
  "kernelspec": {
   "display_name": "Python 3 (ipykernel)",
   "language": "python",
   "name": "python3"
  },
  "language_info": {
   "codemirror_mode": {
    "name": "ipython",
    "version": 3
   },
   "file_extension": ".py",
   "mimetype": "text/x-python",
   "name": "python",
   "nbconvert_exporter": "python",
   "pygments_lexer": "ipython3",
   "version": "3.9.13"
  }
 },
 "nbformat": 4,
 "nbformat_minor": 5
}
